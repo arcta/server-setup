{
 "cells": [
  {
   "cell_type": "markdown",
   "metadata": {},
   "source": [
    "# Local Project Utilities"
   ]
  },
  {
   "cell_type": "markdown",
   "metadata": {},
   "source": [
    "This Project contains common py & app utilities installed as local pip & npm packages."
   ]
  },
  {
   "cell_type": "code",
   "execution_count": 3,
   "metadata": {
    "collapsed": false
   },
   "outputs": [],
   "source": [
    "from lib import config"
   ]
  },
  {
   "cell_type": "code",
   "execution_count": 6,
   "metadata": {
    "collapsed": false
   },
   "outputs": [
    {
     "name": "stdout",
     "output_type": "stream",
     "text": [
      "{'auth': {'PORT': 4002, 'GOOGLE_ID': ''}, 'viz': {'PORT': 4008, 'GOOGLE_ID': ''}, 'pubsub': {'PORT': 4004, 'GOOGLE_ID': ''}, 'sandbox': {'PORT': 4006, 'GOOGLE_ID': ''}, 'info': {'PORT': 4000, 'GOOGLE_ID': ''}}\n"
     ]
    }
   ],
   "source": [
    "test = config.LocalCnf()\n",
    "\n",
    "print(test.get('PROJECT'))"
   ]
  },
  {
   "cell_type": "code",
   "execution_count": 1,
   "metadata": {
    "collapsed": false
   },
   "outputs": [],
   "source": [
    "from lib import mysql "
   ]
  },
  {
   "cell_type": "code",
   "execution_count": 2,
   "metadata": {
    "collapsed": false
   },
   "outputs": [
    {
     "name": "stdout",
     "output_type": "stream",
     "text": [
      "<lib.mysql.MySQL object at 0x7fb3bc43c0f0>\n",
      "({'Tables_in_orion': 'opd_crime'}, {'Tables_in_orion': 'opd_crime_dictionary'}, {'Tables_in_orion': 'opd_crime_wordnet'}, {'Tables_in_orion': 'whisper_dictionary'}, {'Tables_in_orion': 'whisper_symbol'}, {'Tables_in_orion': 'whisper_wordnet'})\n"
     ]
    }
   ],
   "source": [
    "test = mysql.MySQL(root=True)\n",
    "\n",
    "print(test.query(\"show tables\"))"
   ]
  },
  {
   "cell_type": "markdown",
   "metadata": {
    "collapsed": true
   },
   "source": [
    "For nodejs-app package.json dependencies include:\n",
    "<pre>\n",
    "\"app-local\": \"file:../../lib/app-local\",      \n",
    "</pre>"
   ]
  },
  {
   "cell_type": "code",
   "execution_count": null,
   "metadata": {
    "collapsed": true
   },
   "outputs": [],
   "source": []
  }
 ],
 "metadata": {
  "kernelspec": {
   "display_name": "Python 3",
   "language": "python",
   "name": "python3"
  },
  "language_info": {
   "codemirror_mode": {
    "name": "ipython",
    "version": 3
   },
   "file_extension": ".py",
   "mimetype": "text/x-python",
   "name": "python",
   "nbconvert_exporter": "python",
   "pygments_lexer": "ipython3",
   "version": "3.4.3"
  }
 },
 "nbformat": 4,
 "nbformat_minor": 0
}
