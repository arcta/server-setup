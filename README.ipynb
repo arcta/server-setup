{
 "cells": [
  {
   "cell_type": "markdown",
   "metadata": {},
   "source": [
    "# Data R&D Stack on Linux Ubuntu 16.04 LTS\n",
    "R&D **workstation / server** for collaborative prototyping and development of ML-enabled web-apps and APIs.\n",
    "\n",
    "This arrangement was designed to serve a small team of software developers in data science with IoT stack;\n",
    "considering few nodes (our workstations + some commodity machines) with Ubuntu Linux operating system. While DS moved to the cloud, this legacy setup serving as AI sandbox."
   ]
  },
  {
   "cell_type": "markdown",
   "metadata": {},
   "source": [
    "### Stack:\n",
    "Python, R, Scala, Java, C/C++/C#, Fortran"
   ]
  },
  {
   "cell_type": "markdown",
   "metadata": {},
   "source": [
    "### Tools:\n",
    "NumPy, SciPy, SymPy, Matplotlib, Scikit-Learn, Pandas, TensorFlow, NLTK, GDAL"
   ]
  },
  {
   "cell_type": "markdown",
   "metadata": {},
   "source": [
    "### Databases:\n",
    "ElasticSearch, MySQL, MongoDB, PostgreSQL, Redis"
   ]
  },
  {
   "cell_type": "markdown",
   "metadata": {},
   "source": [
    "### Services:\n",
    "Jupyter Notebook, Rstudio Shiny, NodeJS Apps, Python API with Nginx Server"
   ]
  },
  {
   "cell_type": "markdown",
   "metadata": {},
   "source": [
    "### Distributed Computing\n",
    "Apache Spark (batch) and Flint (stream)"
   ]
  },
  {
   "cell_type": "markdown",
   "metadata": {},
   "source": [
    "### Projects Owner is Server\n",
    "If in the cloud, consider creating a dedicated user:\n",
    "<pre>\n",
    "sudo useradd -d /home/$SERVER -m $SERVER\n",
    "sudo usermod -g sudo $SERVER\n",
    "sudo passwd $SERVER\n",
    "</pre>\n",
    "Then log in as $SERVER for installation."
   ]
  },
  {
   "cell_type": "markdown",
   "metadata": {},
   "source": [
    "## Installation\n",
    "* Step 1: Setting Configuration (see **configuration** folder)\n",
    "* Step 2: Installing System Dependencies (see **system** folder)\n",
    "* Step 3: Distributed Computing (see **distributed** folder)\n",
    "* Step 4: User Environment (see **environment** folder)\n",
    "* Step 5: Services (see **service** folder)\n",
    "* Step 6: Cloud  (see **cloud** folder)"
   ]
  },
  {
   "cell_type": "code",
   "execution_count": 1,
   "metadata": {},
   "outputs": [
    {
     "name": "stdout",
     "output_type": "stream",
     "text": [
      "#!/bin/bash\r\n",
      "\r\n",
      "if [ -d 'configuration' ] && [ -d 'system' ] && [ -d 'environment' ] && [ -d 'service' ]; then\r\n",
      "    cd configuration\r\n",
      "    read -p \"$USER is intended server? Y|n: \" input\r\n",
      "    case $input in\r\n",
      "        [Yy]* ) source sequre.sh;;\r\n",
      "        [Nn]* ) echo \"Installation required USER SERVER ...\"; return 0;;\r\n",
      "        * ) source sequre.sh;;\r\n",
      "    esac\r\n",
      "    source init.sh\r\n",
      "\r\n",
      "    cd ../system\r\n",
      "    read -p \"Install ALL (OR promt)? Y|n: \" input\r\n",
      "    case $input in\r\n",
      "        [Yy]* ) source install-all.sh;;\r\n",
      "        [Nn]* ) source install-selected.sh;;\r\n",
      "        * ) source install-all.sh;;\r\n",
      "    esac\r\n",
      "\r\n",
      "    cd ../distributed\r\n",
      "    source install.sh\r\n",
      "\r\n",
      "    cd ../environment\r\n",
      "    source setup.sh\r\n",
      "\r\n",
      "    cd ../service\r\n",
      "    source setup.sh\r\n",
      "\r\n",
      "    cd ../cloud\r\n",
      "    source install.sh\r\n",
      "\r\n",
      "    cd ../\r\n",
      "    echo \"Done: see the logs in correponding folders\"\r\n",
      "else\r\n",
      "    echo \"Aborting: run from the root of repository\"\r\n",
      "fi\r\n"
     ]
    }
   ],
   "source": [
    "!cat master.sh"
   ]
  },
  {
   "cell_type": "markdown",
   "metadata": {},
   "source": [
    "#### ATTENTION:\n",
    "For personal workstation use [Live CD (Desktop)](http://releases.ubuntu.com/xenial), installing GUI on the top of Server with **apt install ubuntu-desktop** is broken due to **Python 2** dependencies: minimal Python 2 should still be present and default during the installation, which is not the case for Xenial Server."
   ]
  },
  {
   "cell_type": "markdown",
   "metadata": {},
   "source": [
    "## Project Development and Deployment\n",
    "See **environment / projects / README**"
   ]
  }
 ],
 "metadata": {
  "kernelspec": {
   "display_name": "Python 3",
   "language": "python",
   "name": "python3"
  },
  "language_info": {
   "codemirror_mode": {
    "name": "ipython",
    "version": 3
   },
   "file_extension": ".py",
   "mimetype": "text/x-python",
   "name": "python",
   "nbconvert_exporter": "python",
   "pygments_lexer": "ipython3",
   "version": "3.5.2"
  }
 },
 "nbformat": 4,
 "nbformat_minor": 2
}
