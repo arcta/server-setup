{
 "cells": [
  {
   "cell_type": "markdown",
   "metadata": {},
   "source": [
    "# Data Science R&D on Linux Ubuntu 14.04 LTS"
   ]
  },
  {
   "cell_type": "markdown",
   "metadata": {},
   "source": [
    "#### Objectives:"
   ]
  },
  {
   "cell_type": "markdown",
   "metadata": {},
   "source": [
    "R&D workstation/server for collaborative agile development ( internal access ) + web-presentations and demo-apps ( Google Cloud ).\n",
    "\n",
    "This arrangement was designed to serve a small R&D team of software developers in data science with IoT stack;\n",
    "considering few physical nodes (which are our actual workstations + some commodity machines) with Ubuntu Linux operating system. VMs and containers are not our immediate concern, the image is usually a part of our product, not the part of our toolbox. However, to support our laptops, and rising necessity for the quick scallable rollout of some projects into a cloud, now adding docker and google-cloud-sdk. GCP seems to be the best fit for our projects as it has all the components for data-heavy, machine-learning-enabled applications, as well as ad-hock data analysis."
   ]
  },
  {
   "cell_type": "markdown",
   "metadata": {},
   "source": [
    "#### Stack:"
   ]
  },
  {
   "cell_type": "markdown",
   "metadata": {},
   "source": [
    "R + Python ++ ( Java, Scala, C/C++/C#, Fortran )"
   ]
  },
  {
   "cell_type": "markdown",
   "metadata": {},
   "source": [
    "#### Tools:"
   ]
  },
  {
   "cell_type": "markdown",
   "metadata": {},
   "source": [
    "R, NumPy, SciPy, SymPy, Matplotlib, Scikit-Learn, Pandas, NLTK, GDAL"
   ]
  },
  {
   "cell_type": "markdown",
   "metadata": {},
   "source": [
    "#### Databases:"
   ]
  },
  {
   "cell_type": "markdown",
   "metadata": {},
   "source": [
    "ElasticSearch, MySQL, MongoDB ( PostgreSQL comes with Ubuntu )"
   ]
  },
  {
   "cell_type": "markdown",
   "metadata": {},
   "source": [
    "#### Services:"
   ]
  },
  {
   "cell_type": "markdown",
   "metadata": {},
   "source": [
    "Jupyter Notebook + Rstudio Shiny + NodeJS\n",
    "proxy locations behind NGINX Server"
   ]
  },
  {
   "cell_type": "markdown",
   "metadata": {},
   "source": [
    "#### Distributed Computing"
   ]
  },
  {
   "cell_type": "markdown",
   "metadata": {},
   "source": [
    "Apache Spark and Storm"
   ]
  },
  {
   "cell_type": "markdown",
   "metadata": {},
   "source": [
    "## Installation"
   ]
  },
  {
   "cell_type": "markdown",
   "metadata": {},
   "source": [
    "#### Overview:"
   ]
  },
  {
   "cell_type": "markdown",
   "metadata": {},
   "source": [
    "The process here is broken into 4 steps to accommodate customizations.\n",
    "ATTENTION: if intended usage is more like a main desktop with personal and encrypted home directory, consider creating a separate user (see Permissions section). This installation scenario is for the SERVER user: do not encrypt /home/SERVER for some start-up scriprts to work. Following considers USER = SERVER.\n",
    "\n",
    "Install OS <a href=\"https://help.ubuntu.com/community/Installation/MinimalCD\">( Ubuntu 14.04 LTS )</a>, \n",
    "\n",
    "Install Desktop:\n",
    "<pre>\n",
    "sudo apt-get install ubuntu-desktop\n",
    "</pre>\n",
    "Then run scripts from /home/USER as USER in the order of the file suffix number: 1, 2, 3, 4.\n",
    "\n",
    "The process is smooth and easy for the fresh install of Ubuntu 14.04."
   ]
  },
  {
   "cell_type": "markdown",
   "metadata": {},
   "source": [
    "#### Access Mode:"
   ]
  },
  {
   "cell_type": "markdown",
   "metadata": {},
   "source": [
    "If runs on personal workstation it might be worth to set a dedicated user. This script consider the server is a home owner."
   ]
  },
  {
   "cell_type": "markdown",
   "metadata": {},
   "source": [
    "<pre>\n",
    "#!/bin/bash ### install/permissions-0\n",
    "\n",
    "########################################################################\n",
    "### set dedicated user and fix permissions\n",
    "########################################################################\n",
    "\n",
    "OWNER=$'server'\n",
    "\n",
    "sudo useradd -d /home/$OWNER -m $OWNER\n",
    "sudo usermod -g sudo $OWNER\n",
    "sudo usermod -s /bin/bash $OWNER\n",
    "sudo passwd $OWNER\n",
    "\n",
    "### User rules for $OWNER ###\n",
    "echo \"$OWNER ALL=(ALL) PASSWD:ALL\" | sudo /etc/sudoers.d/$OWNER\n",
    "\n",
    "########################################################################\n",
    "### if on AWS: remove excess of power from aws-init-user\n",
    "sudo passwd ubuntu\n",
    "sudo rm /etc/sudoers.d/90-cloud-init-users\n",
    "</pre>"
   ]
  },
  {
   "cell_type": "markdown",
   "metadata": {},
   "source": [
    "#### Local configuration:"
   ]
  },
  {
   "cell_type": "markdown",
   "metadata": {},
   "source": [
    "Run config-1 script to create local configuration file. This file will be used by installation. ( Add Python and R packages to ~/install-user-pip.txt and ~/install-user-r.txt for extended installation. )"
   ]
  },
  {
   "cell_type": "markdown",
   "metadata": {},
   "source": [
    "<pre>\n",
    "#!/bin/bash ### install/config-1\n",
    "\n",
    "########################################################################\n",
    "### create local configuration and login credentials\n",
    "########################################################################\n",
    "</pre>"
   ]
  },
  {
   "cell_type": "markdown",
   "metadata": {},
   "source": [
    "This will create configuratuion file in HOME directory: .local.cnf\n",
    "\n",
    "Edit configuration values as needed. ( Configuration file ~/.local.cnf will be executed by .bashrc on user login. )"
   ]
  },
  {
   "cell_type": "markdown",
   "metadata": {},
   "source": [
    "#### System dependencies:"
   ]
  },
  {
   "cell_type": "markdown",
   "metadata": {},
   "source": [
    "For R&D we consider the latest, preferably ( not necessarily ) stable versions. Run system-2 script to get it done."
   ]
  },
  {
   "cell_type": "markdown",
   "metadata": {},
   "source": [
    "<pre>\n",
    "#!/bin/bash ### install/system-2\n",
    "\n",
    "########################################################################\n",
    "### install system level dependencies using local configuration\n",
    "########################################################################\n",
    "</pre>"
   ]
  },
  {
   "cell_type": "markdown",
   "metadata": {},
   "source": [
    "Script is intentionally not silenced: we are building a workstation ( ATTENTION: Y is not always a default option! )\n",
    "\n",
    "Notice: config-1 will gray out (-x) to prevent accidental override of configuration which was used by systems-2."
   ]
  },
  {
   "cell_type": "markdown",
   "metadata": {},
   "source": [
    "#### Apache Tools:"
   ]
  },
  {
   "cell_type": "markdown",
   "metadata": {},
   "source": [
    "Run apaches-3 script for basic installation of Apache Spark and Storm. ( ATTENTION! Check if the newer versions are available. ) This script will not configure either, configuration depends on intended usage, will set just enough to start the service."
   ]
  },
  {
   "cell_type": "markdown",
   "metadata": {},
   "source": [
    "<pre>\n",
    "#!/bin/bash ### install/apaches-3\n",
    "\n",
    "########################################################################\n",
    "### install apache distributed computing tools: spark & storm\n",
    "########################################################################\n",
    "\n",
    "SCALA_V=2.11.8\n",
    "SPARK_V=2.0.2\n",
    "HADOOP_V=2.7.0\n",
    "STORM_V=1.0.2\n",
    "\n",
    "ZOOKEEPER_V=3.4.9\n",
    "ZEROMQ_V=4.2.0\n",
    "</pre>"
   ]
  },
  {
   "cell_type": "markdown",
   "metadata": {},
   "source": [
    "#### Environment:"
   ]
  },
  {
   "cell_type": "markdown",
   "metadata": {},
   "source": [
    "Add packages to ~/user-pip-install.txt one per line, than run user-4 script to setup environment"
   ]
  },
  {
   "cell_type": "markdown",
   "metadata": {},
   "source": [
    "<pre>\n",
    "#!/bin/bash ### install/user-4\n",
    "\n",
    "########################################################################\n",
    "### setup virtual environment and local user libraries\n",
    "########################################################################\n",
    "</pre>"
   ]
  },
  {
   "cell_type": "markdown",
   "metadata": {},
   "source": [
    "This will setup Python virtual environment and save requirements.txt; virtual environment will be activated on login, comment it out in .local.cnf, if prefer manual handling.\n",
    "\n",
    "Some projects are intended to become common utilities. ( See example <a href=\"https://github.com/arcta/viz\">Interactive-Visualization</a>. )\n",
    "<pre>\n",
    "### initialize local package-library\n",
    "rsync -av ${DIR}/lib ~/$NODE_DOC_ROOT/\n",
    "cd ~/$NODE_DOC_ROOT/$label/app && npm install\n",
    "cd ~/$NODE_DOC_ROOT/lib && pip install -e .\n",
    "cd ~\n",
    "\n",
    "### projects which became common utilities\n",
    "# for label in info auth sandbox viz ; do\n",
    "#    ~/project/create $label\n",
    "#    cd ~/$NODE_DOC_ROOT\n",
    "#    rm -rf $label\n",
    "#    git clone git@bitbucket.org/arcta/$label.git\n",
    "#    if [ -d ~/$NODE_DOC_ROOT/$label/app ]; then\n",
    "#        cd ~/$NODE_DOC_ROOT/$label/app && npm install\n",
    "#    fi\n",
    "#    if [ -d ~/$NODE_DOC_ROOT/$label/$label ]; then\n",
    "#        cd ~/$NODE_DOC_ROOT/$label/$label && pip install -e .\n",
    "#    fi\n",
    "# done\n",
    "</pre>\n",
    "\n",
    "\n",
    "The Jupyter Notebook server will be created and configured in virtual environment."
   ]
  },
  {
   "cell_type": "markdown",
   "metadata": {},
   "source": [
    "#### Services:"
   ]
  },
  {
   "cell_type": "markdown",
   "metadata": {},
   "source": [
    "Run services-5 script to configure and start services. ( See below on the details what gets done. )"
   ]
  },
  {
   "cell_type": "markdown",
   "metadata": {},
   "source": [
    "<pre>\n",
    "#!/bin/bash ### install/services-5\n",
    "\n",
    "########################################################################\n",
    "### services configuration and persistence\n",
    "########################################################################\n",
    "</pre>"
   ]
  },
  {
   "cell_type": "markdown",
   "metadata": {},
   "source": [
    "NGINX will be configured to serve locations: \n",
    "\n",
    "1. the.domain.com/notebook proxy for Jupyter Notebook server; local-network access\n",
    "\n",
    "2. the.domain.com/rstudio/ proxy for R-Shiny server; public by default\n",
    "\n",
    "3. the.domain.com/ & my.domain.com/projects/ proxy for optional nodeJS demo-apps and static web-presentations (see deployment section) also public by default\n",
    "\n",
    "Projects demos will be served independently by adding/removing location to the included locations in nginx.conf"
   ]
  },
  {
   "cell_type": "markdown",
   "metadata": {},
   "source": [
    "<pre>\n",
    "user www-data;\n",
    "    \n",
    "http {\n",
    "\n",
    "    include upstream/*;\n",
    "\n",
    "    # include /etc/nginx/conf.d/*.conf; ### shared common configurations ###\n",
    "    # include /etc/nginx/sites-enabled/*; ### if any other sites/vhosts ###\n",
    "\n",
    "    server {\n",
    "        server_name alpha.psi-sync.net betelgeuse localhost;\n",
    "\n",
    "        # listen 80;\n",
    "        ### VALID SSL SETIFICATE EXPECTED ###\n",
    "        listen 443 ssl;\n",
    "        ssl_certificate /etc/nginx/ssl/the.domain.com.crt;\n",
    "        ssl_certificate_key /etc/nginx/ssl/the.domain.com.key;\n",
    "\n",
    "        # include error.conf; ### custom error pages ###\n",
    "        include location/*;\n",
    "    }\n",
    "}\n",
    "</pre>"
   ]
  },
  {
   "cell_type": "markdown",
   "metadata": {},
   "source": [
    "To run Jupyter notebook as persistent server we have to add /etc/init/notebook.conf and /etc/init.d/notebook executable:"
   ]
  },
  {
   "cell_type": "markdown",
   "metadata": {},
   "source": [
    "<pre>\n",
    "#! /bin/sh ### /etc/init.d/notebook\n",
    "\n",
    "### BEGIN INIT INFO\n",
    "# Provides:          notebook service daemon\n",
    "# Required-Start:    \\$local_fs \\$remote_fs \\$network\n",
    "# Required-Stop:     \\$local_fs \\$remote_fs \\$network\n",
    "# Default-Start:     2 3 4 5\n",
    "# Default-Stop:      0 1 6\n",
    "# Short-Description: runs notebook\n",
    "# Description:       iPython notebook service daemon\n",
    "### END INIT INFO\n",
    "\n",
    "case \"\\$1\" in\n",
    "    start)\n",
    "        start-stop-daemon --start --quiet \\\n",
    "            --chuid ${USER}:${USER} --chdir=$HOME/$NODE_DOC_ROOT \\\n",
    "            --exec ${HOME}/.env/bin/ipython notebook --profile=nbserver --no-browser \\\n",
    "                || return 2\n",
    "        ;;\n",
    "    stop)\n",
    "        start-stop-daemon --stop --quiet --retry=TERM/30/KILL/5 --name notebook\n",
    "        return 0\n",
    "        ;;\n",
    "    restart)\n",
    "        start-stop-daemon --stop --quiet --retry=TERM/30/KILL/5 --name notebook\n",
    "        start-stop-daemon --start --quiet \\\n",
    "            --chuid ${USER}:${USER} --chdir=$HOME/$NODE_DOC_ROOT \\\n",
    "            --exec ${HOME}/.env/bin/ipython notebook --profile=nbserver --no-browser\n",
    "        ;;\n",
    "    *)\n",
    "        echo \"Usage: service notebook (start|stop|restart)\" >&2\n",
    "        exit 3\n",
    "        ;;\n",
    "esac\n",
    "\n",
    ":\n",
    "</pre>"
   ]
  },
  {
   "cell_type": "markdown",
   "metadata": {},
   "source": [
    "The above creates a service notebook, so, it can be used as usual: sudo service notebok (start|stop|restart)"
   ]
  },
  {
   "cell_type": "markdown",
   "metadata": {},
   "source": [
    "<pre>\n",
    "### /etc/init/notebook.conf\n",
    "\n",
    "description \"iPython notebook sturtup persistence\"\n",
    "start on runlevel [2345]\n",
    "stop on runlevel [!2345]\n",
    "\n",
    "respawn\n",
    "respawn limit 10 5\n",
    "\n",
    "setuid ${USER}\n",
    "setgid ${USER}\n",
    "chdir ${HOME}/${NODE_DOC_ROOT}\n",
    "\n",
    "exec ${HOME}/.env/bin/ipython notebook --profile=nbserver --no-browser\n",
    "</pre>"
   ]
  },
  {
   "cell_type": "markdown",
   "metadata": {},
   "source": [
    "Now we can add notebook upstart persistence:\n",
    "<pre>\n",
    "sudo update-rc.d notebook defaults 99\n",
    "</pre>"
   ]
  },
  {
   "cell_type": "markdown",
   "metadata": {},
   "source": [
    "For nodeJS persistence we optout PM2 module https://github.com/Unitech/pm2.\n",
    "\n",
    "Reboot the system to make sure services are upstart pesistent as expected: sudo reboot\n",
    "\n",
    "If all is fine, the result of sudo netstat -tulpn after reboot should have all the following entries present:"
   ]
  },
  {
   "cell_type": "markdown",
   "metadata": {},
   "source": [
    "<pre>\n",
    "tcp         127.0.0.1:27017         0.0.0.0:*           LISTEN      .../mongod     \n",
    "tcp         127.0.0.1:3306          0.0.0.0:*           LISTEN      .../mysqld     \n",
    "tcp         127.0.0.1:6379          0.0.0.0:*           LISTEN      .../redis-server\n",
    "tcp         127.0.0.1:8888          0.0.0.0:*           LISTEN      .../python     \n",
    "tcp         0.0.0.0:3838            0.0.0.0:            LISTEN      .../shiny-server\n",
    "tcp         0.0.0.0:443             0.0.0.0:            LISTEN      .../nginx      \n",
    "tcp         0.0.0.0:80              0.0.0.0:*           LISTEN      .../nginx      \n",
    "tcp6        :::9200                 :::*                LISTEN      .../java       \n",
    "tcp6        :::9300                 :::*                LISTEN      .../java       \n",
    "</pre>"
   ]
  },
  {
   "cell_type": "markdown",
   "metadata": {},
   "source": [
    "Now the.domain.com/notebook should be online."
   ]
  },
  {
   "cell_type": "markdown",
   "metadata": {},
   "source": [
    "## Project Development and Deployment"
   ]
  },
  {
   "cell_type": "markdown",
   "metadata": {},
   "source": [
    "In HOME directory two folders are created: NODE_DOC_ROOT/ ( projects/ by default ) and project/. The first one is location where the projects will reside. The second contains a tiny local-network deployment framework. See <a href=\"/notebook/notebooks/user-guide.ipynb\">user-guide notebook</a> for the details."
   ]
  },
  {
   "cell_type": "markdown",
   "metadata": {
    "collapsed": true
   },
   "source": [
    "Finally, as production deployment intended for Google Cloud Platform, install SDK\n",
    "\n",
    "<pre>\n",
    "#!/bin/bash ### install/gcp-6\n",
    "\n",
    "########################################################################\n",
    "### install GCP SDK: https://cloud.google.com/sdk/docs/#deb\n",
    "### at least one (may be empty) project should be in your GCP account\n",
    "########################################################################\n",
    "</pre>"
   ]
  },
  {
   "cell_type": "markdown",
   "metadata": {},
   "source": [
    "Projects intended to be in the cloud expected to have corresponding GCP-ID."
   ]
  },
  {
   "cell_type": "code",
   "execution_count": null,
   "metadata": {
    "collapsed": true
   },
   "outputs": [],
   "source": []
  }
 ],
 "metadata": {
  "kernelspec": {
   "display_name": "Python 3",
   "language": "python",
   "name": "python3"
  },
  "language_info": {
   "codemirror_mode": {
    "name": "ipython",
    "version": 3
   },
   "file_extension": ".py",
   "mimetype": "text/x-python",
   "name": "python",
   "nbconvert_exporter": "python",
   "pygments_lexer": "ipython3",
   "version": "3.4.3"
  }
 },
 "nbformat": 4,
 "nbformat_minor": 0
}
