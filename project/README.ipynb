{
 "metadata": {
  "name": "",
  "signature": ""
 },
 "nbformat": 3,
 "nbformat_minor": 0,
 "worksheets": [
  {
   "cells": [
    {
     "cell_type": "heading",
     "level": 1,
     "metadata": {},
     "source": [
      "Project Title"
     ]
    },
    {
     "cell_type": "heading",
     "level": 3,
     "metadata": {},
     "source": [
      "[Summary][Description]"
     ]
    },
    {
     "cell_type": "markdown",
     "metadata": {},
     "source": [
      "Lets start!\n",
      "\n",
      "____________________________________________________________________________________________________\n",
      "This is the project notebook, which can be converted to README.md for GIT when ready:\n",
      "\n",
      "[ . ~/project/convert PROJECT_LABEL README ]\n",
      "____________________________________________________________________________________________________\n",
      "All the notebooks created in this folder can be accessed via URL: DOMAIN/notebook/PROJECT_LABEL\n",
      "____________________________________________________________________________________________________\n",
      "Project notebooks can be published as static html/pdf documents to the project public web interface:\n",
      "\n",
      "[ .  ~/project/publish PROJECT_LABEL NOTEBOOK_NAME ]\n",
      "\n",
      "URL: DOMAIN/NODE_DOC_ROOT/PROJECT_LABEL/NOTEBOOK_NAME.html\n",
      "PDF: DOMAIN/NODE_DOC_ROOT/PROJECT_LABEL/pdf/NOTEBOOK_NAME.pdf\n"
      "____________________________________________________________________________________________________\n",
      "To convert notebook to markdown OR python to notebook:\n",
      "\n",
      "[ . ~/project/convert PROJECT_LABEL NOTEBOOK_NAME.(ipynd|py) ]\n",
      "____________________________________________________________________________________________________\n",
      "Files ui.R and server.R intended for web-interface with project Rstudio work.\n",
      "URL: DOMAIN/rstudio/PROJECT_LABEL/\n",
      "____________________________________________________________________________________________________\n",
      "If app is present and enabled, it can be accessed online\n",
      "URL: DOMAIN/projects/PROJECT_LABEL/\n",
      "____________________________________________________________________________________________________\n",
      "To start/stop/test the app run:\n",
      "\n",
      "[ . ~/project/start PROJECT_LABEL ]\n",
      "\n",
      "[ . ~/project/stop PROJECT_LABEL ]\n",
      "\n",
      "[ . ~/project/start PROJECT_LABEL --test ]\n",
      "\n",
      "ATTENTION: app/node_modules is a symlink to a default installation nodejs modules, if the project app requires specific package versions: remove the symlink; then [ cd app && npm install ] to create a local storage."
     ]
    }
   ],
   "metadata": {}
  }
 ]
}
