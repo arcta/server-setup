{
 "cells": [
  {
   "cell_type": "markdown",
   "metadata": {},
   "source": [
    "# Project Title"
   ]
  },
  {
   "cell_type": "markdown",
   "metadata": {},
   "source": [
    "### [Summary][Description]"
   ]
  },
  {
   "cell_type": "markdown",
   "metadata": {},
   "source": [
    "This is the project notebook, which can be converted to README.md\n",
    "<pre>\n",
    "~/project/convert PROJECT_LABEL README\n",
    "</pre>\n",
    "Notebooks intended for GC-Datalab should be in <i>datalab / notebooks</i> folder, so, you can mount them by running from the project folder:\n",
    "<pre>\n",
    "docker run -it -p 8081:8080 -v \"${HOME}:/content\" -e \"PROJECT_ID=PROJECT_GID\" \\\n",
    "                  gcr.io/cloud-datalab/datalab:local\n",
    "</pre>\n",
    "\n",
    "\n",
    "Project notebooks can be published as static html/pdf documents to the project public web interface:\n",
    "<pre>\n",
    "~/project/publish PROJECT_LABEL NOTEBOOK_NAME\n",
    "</pre>\n",
    "URL: DOMAIN/NODE_DOC_ROOT/PROJECT_LABEL/NOTEBOOK_NAME.html"
   ]
  },
  {
   "cell_type": "markdown",
   "metadata": {},
   "source": [
    "To convert notebook to markdown OR python to notebook:\n",
    "<pre>\n",
    "~/project/convert PROJECT_LABEL NOTEBOOK_NAME.(ipynd|py)\n",
    "</pre>\n",
    "\n",
    "Files ui.R and server.R intended for web-interface with project Rstudio work.\n",
    "\n",
    "URL: DOMAIN/rstudio/PROJECT_LABEL/\n",
    "\n",
    "If app is present and enabled, it can be accessed online\n",
    "\n",
    "URL: DOMAIN/projects/PROJECT_LABEL/\n",
    "\n",
    "To start/stop/test the app run:\n",
    "<pre>\n",
    "~/project/start PROJECT_LABEL\n",
    "\n",
    "~/project/stop PROJECT_LABEL\n",
    "\n",
    "~/project/start PROJECT_LABEL --test\n",
    "</pre>"
   ]
  },
  {
   "cell_type": "markdown",
   "metadata": {},
   "source": [
    "ATTENTION: app/node_modules is a symlink to default installation of nodejs modules in HOME directory, if the project app requires specific package versions:\n",
    "<pre>\n",
    "cd app\n",
    "rm node_modules && npm install\n",
    "</pre>"
   ]
  },
  {
   "cell_type": "code",
   "execution_count": null,
   "metadata": {
    "collapsed": true
   },
   "outputs": [],
   "source": []
  }
 ],
 "metadata": {
  "kernelspec": {
   "display_name": "Python 3",
   "language": "python",
   "name": "python3"
  },
  "language_info": {
   "codemirror_mode": {
    "name": "ipython",
    "version": 3
   },
   "file_extension": ".py",
   "mimetype": "text/x-python",
   "name": "python",
   "nbconvert_exporter": "python",
   "pygments_lexer": "ipython3",
   "version": "3.4.3"
  }
 },
 "nbformat": 4,
 "nbformat_minor": 0
}
