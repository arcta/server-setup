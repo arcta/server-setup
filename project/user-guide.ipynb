{
 "metadata": {
  "name": "",
  "signature": ""
 },
 "nbformat": 3,
 "nbformat_minor": 0,
 "worksheets": [
  {
   "cells": [
    {
     "cell_type": "heading",
     "level": 2,
     "metadata": {},
     "source": [
      "Development"
     ]
    },
    {
     "cell_type": "heading",
     "level": 4,
     "metadata": {},
     "source": [
      "Objectives:"
     ]
    },
    {
     "cell_type": "markdown",
     "metadata": {},
     "source": [
      "Research and agile prototyping"
     ]
    },
    {
     "cell_type": "heading",
     "level": 4,
     "metadata": {},
     "source": [
      "Stack:"
     ]
    },
    {
     "cell_type": "markdown",
     "metadata": {},
     "source": [
      "R + Python"
     ]
    },
    {
     "cell_type": "heading",
     "level": 4,
     "metadata": {},
     "source": [
      "Tools:"
     ]
    },
    {
     "cell_type": "markdown",
     "metadata": {},
     "source": [
      "R, GDAL, NumPy, SciPy, SymPy, Matplotlib, Scikit-Learn, Pandas, NLTK"
     ]
    },
    {
     "cell_type": "heading",
     "level": 4,
     "metadata": {},
     "source": [
      "Databases:"
     ]
    },
    {
     "cell_type": "markdown",
     "metadata": {},
     "source": [
      "ElasticSearch (main storage), MySQL (mainly used by scrips temporary storage and probability tables calculation), MongoDB"
     ]
    },
    {
     "cell_type": "heading",
     "level": 4,
     "metadata": {},
     "source": [
      "Services:"
     ]
    },
    {
     "cell_type": "markdown",
     "metadata": {},
     "source": [
      "iPython Notebook + Rstudio Shiny + NodeJS\n",
      "proxy locations behind NGINX Server"
     ]
    },
    {
     "cell_type": "heading",
     "level": 2,
     "metadata": {},
     "source": [
      "Deployment"
     ]
    },
    {
     "cell_type": "heading",
     "level": 4,
     "metadata": {},
     "source": [
      "Overview:"
     ]
    },
    {
     "cell_type": "markdown",
     "metadata": {},
     "source": [
      "In HOME directory the folder NODE_DOC_ROOT/ (work-directory) and folder project/ has been created. The second folder contains some little extras, a tiny project deployment framework: not a lot of heavy lifting, but will save some time and bring some structure to the project development cycle."
     ]
    },
    {
     "cell_type": "heading",
     "level": 4,
     "metadata": {},
     "source": [
      "Initialize a new progect:"
     ]
    },
    {
     "cell_type": "markdown",
     "metadata": {},
     "source": [
      "<pre>\n",
      ". ~/project/create PROJECT_LABEL\n",
      "</pre>\n",
      "PROJECT_LABEL above stands for the project subdirectory name. Only /notebook and /rstudio locations are available as initial web interface. If intended, demo-apps/web-presentations production starts with local app/start script whenever ready."
     ]
    },
    {
     "cell_type": "heading",
     "level": 4,
     "metadata": {},
     "source": [
      "Initialize a project demo-app:"
     ]
    },
    {
     "cell_type": "markdown",
     "metadata": {},
     "source": [
      "The very basic app is initiated when the project has been created. The initiation templates in ~/project folder (find: app-config-template, app-index-template, app-package-template, app.js) can be replaced with custom."
     ]
    },
    {
     "cell_type": "heading",
     "level": 4,
     "metadata": {},
     "source": [
      "Project production app start/stop/reload:"
     ]
    },
    {
     "cell_type": "markdown",
     "metadata": {},
     "source": [
      "<pre>\n",
      ". ~/NODE_DOC_ROOT/PROJECT_LABEL/app/(start|stop|reload)\n",
      "</pre>"
     ]
    },
    {
     "cell_type": "heading",
     "level": 4,
     "metadata": {},
     "source": [
      "Project notebook publish:"
     ]
    },
    {
     "cell_type": "markdown",
     "metadata": {},
     "source": [
      "Whenever ready, the project notebook can be published as static html/pdf document to the project public web interface.\n",
      "<pre>\n",
      ". ~/NODE_DOC_ROOT/PROJECT_LABEL/publish NOTEBOOK_NAME\n",
      "</pre>"
     ]
    },
    {
     "cell_type": "heading",
     "level": 4,
     "metadata": {},
     "source": [
      "Convert to/from notebook:"
     ]
    },
    {
     "cell_type": "markdown",
     "metadata": {},
     "source": [
      "To convert notebook to markdown OR python to notebook:\n",
      "<pre>\n",
      ". ~/NODE_DOC_ROOT/PROJECT_LABEL/convert FILE_NAME\n",
      "</pre>"
     ]
    },
    {
     "cell_type": "heading",
     "level": 4,
     "metadata": {},
     "source": [
      "Projects API:"
     ]
    },
    {
     "cell_type": "markdown",
     "metadata": {},
     "source": [
      "The very basic example is initiated in ~/NODE_DOC_ROOT/api. It is set as a project. The folder contains corresponding start/stop/reload scripts."
     ]
    },
    {
     "cell_type": "heading",
     "level": 4,
     "metadata": {},
     "source": [
      "Projects web-info (front) page:"
     ]
    },
    {
     "cell_type": "markdown",
     "metadata": {},
     "source": [
      "The same as for API, the basic example is initiated in ~/NODE_DOC_ROOT/info as a project."
     ]
    },
    {
     "cell_type": "heading",
     "level": 4,
     "metadata": {},
     "source": [
      "All projects:"
     ]
    },
    {
     "cell_type": "markdown",
     "metadata": {},
     "source": [
      "To start/stop all projects production apps:\n",
      "<pre>\n",
      ". ~/NODE_DOC_ROOT/(star|stop)apps\n",
      "</pre>\n",
      "To start/stop projects notebook web-interface:\n",
      "<pre>\n",
      ". ~/NODE_DOC_ROOT/(star|stop)notebook\n",
      "</pre>\n",
      "To start/stop projects rstudio web-interface:\n",
      "<pre>\n",
      ". ~/NODE_DOC_ROOT/(star|stop)rstudio\n",
      "</pre>"
     ]
    },
    {
     "cell_type": "heading",
     "level": 4,
     "metadata": {},
     "source": [
      "Version control:"
     ]
    },
    {
     "cell_type": "markdown",
     "metadata": {},
     "source": [
      "We suppose, the codebase resides in GIT. Repos are suggested on the project level. (All replicas are synchronized through GIT via a cron job.)"
     ]
    }
   ],
   "metadata": {}
  }
 ]
}
