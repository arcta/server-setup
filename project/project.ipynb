{
 "metadata": {
  "name": "",
  "signature": ""
 },
 "nbformat": 3,
 "nbformat_minor": 0,
 "worksheets": [
  {
   "cells": [
    {
     "cell_type": "heading",
     "level": 1,
     "metadata": {},
     "source": [
      "Project Title"
     ]
    },
    {
     "cell_type": "heading",
     "level": 3,
     "metadata": {},
     "source": [
      "[Summary][Description]"
     ]
    },
    {
     "cell_type": "markdown",
     "metadata": {},
     "source": [
      "Lets start!\n",
      "\n",
      "____________________________________________________________________________________________________\n",
      "This is the project notebook, which can be converted to README.md for GIT when ready:\n",
      "\n",
      "[ . PROJECT_LABEL/convert README.ipynb ]\n",
      "____________________________________________________________________________________________________\n",
      "All the notebooks created in this folder can be accessed via URL: DOMAIN/notebook/PROJECT_LABEL\n",
      "____________________________________________________________________________________________________\n",
      "Project notebooks can be published as static html/pdf documents to the project public web interface:\n",
      "\n",
      "[ . PROJECT_LABEL/publish NOTEBOOK_NAME ]\n",
      "\n",
      "with access URL: DOMAIN/NODE_DOC_ROOT/PROJECT_LABEL/NOTEBOOK_NAME.html & DOMAIN/NODE_DOC_ROOT/PROJECT_LABEL/pdf/NOTEBOOK_NAME.pdf (after project app started)\n",
      "____________________________________________________________________________________________________\n",
      "To convert notebook to markdown OR python to notebook:\n",
      "\n",
      "[ . PROJECT_LABEL/convert NOTEBOOK_NAME..ipynb|py) ]\n",
      "____________________________________________________________________________________________________\n",
      "Files ui.R and server.R intended for web-interface with project Rstudio work.\n",
      "URL: DOMAIN/rstudio/PROJECT_LABEL/\n",
      "____________________________________________________________________________________________________\n",
      "The very basic app is initiated in app/ folder.\n",
      "(You can replace the app initiation templates in ~/project folder with you own.\n",
      "(Find: app-config-template, app-index-template, app-package-template, app.js scripts)\n",
      "\n",
      "Production here is intended for the prototypes, we do not pick any specific framework, plain JS and D3.js interacting with data via API.\n",
      "__________________________________________________________________________________________________\n",
      "To start/stop/reload the project demo-app/web-presentation run:\n",
      "\n",
      "[ . PROJECT_LABEL/app/(start|stop|reload) ]\n",
      "\n",
      "URL: DOMAIN/NODE_DOC_ROOT/PROJECT_LABEL (when started)\n",
      "\n",
      "ATTENTION: app/node_modules is a symlink to a default installation nodejs modules, if the project app requires specific package versions: remove the symlink; then [ cd app && npm install ] to create local library."
     ]
    }
   ],
   "metadata": {}
  }
 ]
}
