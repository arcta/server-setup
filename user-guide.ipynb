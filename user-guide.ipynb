{
 "cells": [
  {
   "cell_type": "markdown",
   "metadata": {},
   "source": [
    "## Project Deveopment and Deployment"
   ]
  },
  {
   "cell_type": "markdown",
   "metadata": {},
   "source": [
    "Each project comes with Jupyter notebook, Rstudio-shiny and NodeJS-express app. ( Mini-framework scrips located in ~/project. )"
   ]
  },
  {
   "cell_type": "markdown",
   "metadata": {},
   "source": [
    "#### Initialize a new progect:"
   ]
  },
  {
   "cell_type": "markdown",
   "metadata": {},
   "source": [
    "<pre>\n",
    "~/project/create PROJECT\n",
    "</pre>\n",
    "PROJECT above stands for the project subdirectory name. Or\n",
    "<pre>\n",
    "~/project/create PROJECT PROGECT_GOOGLE_ID\n",
    "</pre>\n",
    "to initialize the progect which has google-id.\n",
    "\n",
    "After being created the project notebook server can be accessed via local network:\n",
    "\n",
    "http://NETWORK_IP/notebook/tree/PROJECT/\n",
    "\n",
    "And on the world-wide-web:\n",
    "\n",
    "Rsudio: http://NETWORK_IP/rstudio/PROJECT/\n",
    "\n",
    "NodeJS: http://NETWORK_IP/projects/PROJECT/\n"
   ]
  },
  {
   "cell_type": "markdown",
   "metadata": {},
   "source": [
    "#### To start services:"
   ]
  },
  {
   "cell_type": "markdown",
   "metadata": {},
   "source": [
    "<pre>\n",
    "~/NODE_DOC_ROOT/start-notebook ### Jupyter\n",
    "\n",
    "~/NODE_DOC_ROOT/start-rstudio  ### R-shiny\n",
    "\n",
    "~/NODE_DOC_ROOT/start-apps     ### NodeJS\n",
    "</pre>"
   ]
  },
  {
   "cell_type": "markdown",
   "metadata": {},
   "source": [
    "#### To stop services:"
   ]
  },
  {
   "cell_type": "markdown",
   "metadata": {},
   "source": [
    "<pre>\n",
    "~/NODE_DOC_ROOT/stop-notebook ### Jupyter\n",
    "\n",
    "~/NODE_DOC_ROOT/stop-rstudio  ### R-shiny\n",
    "\n",
    "~/NODE_DOC_ROOT/stop-apps     ### NodeJS\n",
    "</pre>"
   ]
  },
  {
   "cell_type": "markdown",
   "metadata": {},
   "source": [
    "#### Start project app:"
   ]
  },
  {
   "cell_type": "markdown",
   "metadata": {},
   "source": [
    "<pre>\n",
    "~/project/start PROJECT --test ### local test\n",
    "\n",
    "~/project/start PROJECT        ### production mode\n",
    "</pre>"
   ]
  },
  {
   "cell_type": "markdown",
   "metadata": {},
   "source": [
    "#### Stop project app:"
   ]
  },
  {
   "cell_type": "markdown",
   "metadata": {},
   "source": [
    "<pre>\n",
    "~/project/stop PROJECT\n",
    "</pre>"
   ]
  },
  {
   "cell_type": "markdown",
   "metadata": {},
   "source": [
    "#### Publish project notebook:"
   ]
  },
  {
   "cell_type": "markdown",
   "metadata": {},
   "source": [
    "Project notebooks can be published as static html/pdf document to the project public web interface.\n",
    "<pre>\n",
    "~/project/publish PROJECT NOTEBOOK_NAME\n",
    "</pre>"
   ]
  },
  {
   "cell_type": "markdown",
   "metadata": {},
   "source": [
    "#### Convert to/from notebook:"
   ]
  },
  {
   "cell_type": "markdown",
   "metadata": {},
   "source": [
    "To convert notebook to markdown OR python to notebook run:\n",
    "<pre>\n",
    "~/project/convert PROJECT FILE_NAME.EXT\n",
    "</pre>"
   ]
  },
  {
   "cell_type": "code",
   "execution_count": null,
   "metadata": {
    "collapsed": true
   },
   "outputs": [],
   "source": []
  }
 ],
 "metadata": {
  "kernelspec": {
   "display_name": "Python 3",
   "language": "python",
   "name": "python3"
  },
  "language_info": {
   "codemirror_mode": {
    "name": "ipython",
    "version": 3
   },
   "file_extension": ".py",
   "mimetype": "text/x-python",
   "name": "python",
   "nbconvert_exporter": "python",
   "pygments_lexer": "ipython3",
   "version": "3.4.3"
  }
 },
 "nbformat": 4,
 "nbformat_minor": 0
}
